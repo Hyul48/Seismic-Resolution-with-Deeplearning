{
 "cells": [
  {
   "cell_type": "code",
   "execution_count": 1,
   "metadata": {},
   "outputs": [],
   "source": [
    "import os\n",
    "import cv2\n",
    "import time\n",
    "import json\n",
    "import glob\n",
    "import cmapy\n",
    "import torch\n",
    "import random\n",
    "import numpy as np\n",
    "import matplotlib.pyplot as plt\n",
    "%matplotlib inline\n",
    "os.environ[\"CUDA_VISIBLE_DEVICES\"] = \"1\"\n",
    "from torch.autograd import Variable\n",
    "from torch.utils.data import DataLoader, Dataset\n",
    "from torchsummary import summary\n",
    "from utils import (\n",
    "    normalize_seis,\n",
    "    get_sliding_wnd_params,\n",
    "    get_sliding_wnd_patches,\n",
    "    window_2d,\n",
    "    recover_img_from_patches,\n",
    "    _downscale\n",
    ")"
   ]
  },
  {
   "cell_type": "code",
   "execution_count": 2,
   "metadata": {},
   "outputs": [],
   "source": [
    "class SeismicDatasetInf(Dataset):\n",
    "\n",
    "    def __init__(self, imgs):\n",
    "        self.imgs = imgs\n",
    "\n",
    "    def __len__(self):\n",
    "        return len(self.imgs)\n",
    "\n",
    "    def __getitem__(self, idx):\n",
    "        img = self.imgs[idx]\n",
    "        img_min = img.min()\n",
    "        img_max = img.max()\n",
    "        if img_max - img_min != 0:\n",
    "            img = (img - img_min) / (img_max - img_min)\n",
    "        else:\n",
    "            img = img / 255.0  #IF MIN == MAX - DEVIDE 255\n",
    "        return img"
   ]
  },
  {
   "cell_type": "code",
   "execution_count": 3,
   "metadata": {},
   "outputs": [],
   "source": [
    "inline = 313\n",
    "inline_path = f\"/data2/seismic_ver2/data/Eastsea/MGDS_Download/npy_files/ar55.5735.odp127jr.r11.none.npy\""
   ]
  },
  {
   "cell_type": "code",
   "execution_count": 4,
   "metadata": {},
   "outputs": [],
   "source": [
    "patch_sz = 128\n",
    "step_sz = 16\n",
    "overlap_sz = patch_sz - step_sz"
   ]
  },
  {
   "cell_type": "code",
   "execution_count": 5,
   "metadata": {},
   "outputs": [
    {
     "name": "stdout",
     "output_type": "stream",
     "text": [
      "torch.Size([1, 3, 128, 128])\n"
     ]
    },
    {
     "name": "stderr",
     "output_type": "stream",
     "text": [
      "/tmp/ipykernel_634635/2095008682.py:15: FutureWarning: You are using `torch.load` with `weights_only=False` (the current default value), which uses the default pickle module implicitly. It is possible to construct malicious pickle data which will execute arbitrary code during unpickling (See https://github.com/pytorch/pytorch/blob/main/SECURITY.md#untrusted-models for more details). In a future release, the default value for `weights_only` will be flipped to `True`. This limits the functions that could be executed during unpickling. Arbitrary objects will no longer be allowed to be loaded via this mode unless they are explicitly allowlisted by the user via `torch.serialization.add_safe_globals`. We recommend you start setting `weights_only=True` for any use case where you don't have full control of the loaded file. Please open an issue on GitHub for any issues related to this experimental feature.\n",
      "  model.load_state_dict(torch.load(model_path))\n"
     ]
    },
    {
     "name": "stdout",
     "output_type": "stream",
     "text": [
      "----------------------------------------------------------------\n",
      "        Layer (type)               Output Shape         Param #\n",
      "================================================================\n",
      "            Conv2d-1        [-1, 256, 128, 128]             512\n",
      "            Conv2d-2        [-1, 256, 128, 128]         590,080\n",
      "       BatchNorm2d-3        [-1, 256, 128, 128]             512\n",
      "              ReLU-4        [-1, 256, 128, 128]               0\n",
      "            Conv2d-5        [-1, 256, 128, 128]         590,080\n",
      "       BatchNorm2d-6        [-1, 256, 128, 128]             512\n",
      "              ReLU-7        [-1, 256, 128, 128]               0\n",
      "     ResidualBlock-8        [-1, 256, 128, 128]               0\n",
      "            Conv2d-9        [-1, 256, 128, 128]         590,080\n",
      "      BatchNorm2d-10        [-1, 256, 128, 128]             512\n",
      "             ReLU-11        [-1, 256, 128, 128]               0\n",
      "           Conv2d-12        [-1, 256, 128, 128]         590,080\n",
      "      BatchNorm2d-13        [-1, 256, 128, 128]             512\n",
      "             ReLU-14        [-1, 256, 128, 128]               0\n",
      "    ResidualBlock-15        [-1, 256, 128, 128]               0\n",
      "DoubleResidualBlock-16        [-1, 256, 128, 128]               0\n",
      "         Upsample-17        [-1, 256, 256, 256]               0\n",
      "  ConvTranspose2d-18        [-1, 256, 256, 256]         590,080\n",
      "      BatchNorm2d-19        [-1, 256, 256, 256]             512\n",
      "             ReLU-20        [-1, 256, 256, 256]               0\n",
      "           Conv2d-21        [-1, 128, 256, 256]          32,896\n",
      "           Conv2d-22        [-1, 128, 256, 256]         147,584\n",
      "      BatchNorm2d-23        [-1, 128, 256, 256]             256\n",
      "             ReLU-24        [-1, 128, 256, 256]               0\n",
      "           Conv2d-25        [-1, 128, 256, 256]         147,584\n",
      "      BatchNorm2d-26        [-1, 128, 256, 256]             256\n",
      "             ReLU-27        [-1, 128, 256, 256]               0\n",
      "    ResidualBlock-28        [-1, 128, 256, 256]               0\n",
      "           Conv2d-29        [-1, 128, 256, 256]         147,584\n",
      "      BatchNorm2d-30        [-1, 128, 256, 256]             256\n",
      "             ReLU-31        [-1, 128, 256, 256]               0\n",
      "           Conv2d-32        [-1, 128, 256, 256]         147,584\n",
      "      BatchNorm2d-33        [-1, 128, 256, 256]             256\n",
      "             ReLU-34        [-1, 128, 256, 256]               0\n",
      "    ResidualBlock-35        [-1, 128, 256, 256]               0\n",
      "DoubleResidualBlock-36        [-1, 128, 256, 256]               0\n",
      "         Upsample-37        [-1, 128, 512, 512]               0\n",
      "  ConvTranspose2d-38        [-1, 128, 512, 512]         147,584\n",
      "      BatchNorm2d-39        [-1, 128, 512, 512]             256\n",
      "             ReLU-40        [-1, 128, 512, 512]               0\n",
      "           Conv2d-41         [-1, 96, 512, 512]         110,688\n",
      "             ReLU-42         [-1, 96, 512, 512]               0\n",
      "           Conv2d-43         [-1, 96, 512, 512]           9,312\n",
      "             ReLU-44         [-1, 96, 512, 512]               0\n",
      "           Conv2d-45          [-1, 1, 512, 512]              97\n",
      "          Sigmoid-46          [-1, 1, 512, 512]               0\n",
      "================================================================\n",
      "Total params: 3,845,665\n",
      "Trainable params: 3,845,665\n",
      "Non-trainable params: 0\n",
      "----------------------------------------------------------------\n",
      "Input size (MB): 0.06\n",
      "Forward/backward pass size (MB): 3844.00\n",
      "Params size (MB): 14.67\n",
      "Estimated Total Size (MB): 3858.73\n",
      "----------------------------------------------------------------\n"
     ]
    }
   ],
   "source": [
    "merge_method = \"smooth\"\n",
    "\n",
    "from models.Generator import GeneratorModel\n",
    "model = GeneratorModel(input_channels=1, output_channels=1)\n",
    "model_path = \"/data2/High_resolution/Result/generator_epoch_5.pth\"\n",
    "\n",
    "save_root = '/data2/High_resolution'\n",
    "save_path = f\"{save_root}/{inline}_{merge_method}\"\n",
    "\n",
    "if torch.cuda.is_available():\n",
    "    device = torch.device('cuda')\n",
    "else:\n",
    "    device = torch.device('cpu')\n",
    "\n",
    "model.load_state_dict(torch.load(model_path))\n",
    "model.to(device)\n",
    "\n",
    "summary(model, (1, patch_sz, patch_sz))"
   ]
  },
  {
   "cell_type": "code",
   "execution_count": 6,
   "metadata": {},
   "outputs": [
    {
     "name": "stdout",
     "output_type": "stream",
     "text": [
      "Total elapsed time: 1020.58 seconds\n"
     ]
    }
   ],
   "source": [
    "recovered_imgs = []\n",
    "elapsed_time = 0\n",
    "\n",
    "# Load seismic data\n",
    "seismic = np.load(inline_path)\n",
    "seismic = seismic\n",
    "\n",
    "start = time.time()\n",
    "Z, XL = seismic.shape  # seismic 데이터의 shape에서 Z와 XL 추출\n",
    "padding, cnt = get_sliding_wnd_params((XL, Z), patch_sz, step_sz)\n",
    "num_patches = cnt[0] * cnt[1]\n",
    "\n",
    "patches = get_sliding_wnd_patches(seismic, padding, patch_sz, step_sz)\n",
    "patches = patches.astype(np.float32)\n",
    "patches = np.expand_dims(patches, 1)\n",
    "\n",
    "batch_size = 4\n",
    "dataset = SeismicDatasetInf(patches)\n",
    "data_loader = DataLoader(\n",
    "    dataset=dataset,\n",
    "    batch_size=batch_size,\n",
    "    shuffle=False\n",
    ")\n",
    "\n",
    "preds = []\n",
    "for imgs in data_loader:\n",
    "    imgs = Variable(imgs.cuda())\n",
    "    outputs = model(imgs)\n",
    "    outputs = _downscale(outputs, 4)\n",
    "    preds.extend(outputs.detach().cpu())\n",
    "    \n",
    "    if len(preds) >= num_patches:\n",
    "        stacked = torch.stack(preds).detach().cpu().numpy()[:num_patches]\n",
    "        preds = preds[num_patches:]\n",
    "\n",
    "        if merge_method == \"smooth\":\n",
    "            weights = window_2d(wnd_sz=patch_sz, power=2)\n",
    "            stacked = np.moveaxis(stacked, -3, -1)\n",
    "            stacked = np.array([patch * weights for patch in stacked])\n",
    "            stacked = stacked.reshape((cnt[1], cnt[0], patch_sz, patch_sz))\n",
    "            recovered = recover_img_from_patches(stacked, (Z, XL), padding, overlap_sz)\n",
    "            recovered_imgs.append(recovered)\n",
    "        else:\n",
    "            print('invalid merge method')\n",
    "\n",
    "end = time.time()\n",
    "elapsed_time += end - start\n",
    "\n",
    "print(f'Total elapsed time: {elapsed_time:.2f} seconds')"
   ]
  },
  {
   "cell_type": "code",
   "execution_count": 7,
   "metadata": {},
   "outputs": [],
   "source": [
    "def min_max_normalize(image):\n",
    "    min_val = image.min()\n",
    "    max_val = image.max()\n",
    "    normalized_image = (image - min_val) / (max_val - min_val)  # Normalizing the image\n",
    "    return normalized_image"
   ]
  },
  {
   "cell_type": "code",
   "execution_count": 8,
   "metadata": {},
   "outputs": [
    {
     "data": {
      "image/png": "[encoded data removed]",
      "text/plain": [
       "<Figure size 1200x600 with 2 Axes>"
      ]
     },
     "metadata": {},
     "output_type": "display_data"
    }
   ],
   "source": [
    "recovered_image = recovered_imgs[0]\n",
    "recovered_image = min_max_normalize(recovered_image)\n",
    "plt.figure(figsize=(12, 6))\n",
    "    \n",
    "# Original Image\n",
    "plt.subplot(2, 1, 1)\n",
    "plt.title('Original Image')\n",
    "plt.imshow(seismic, cmap='seismic')\n",
    "plt.axis('off')\n",
    "\n",
    "# Recovered Image\n",
    "plt.subplot(2, 1, 2)\n",
    "plt.title('Recovered Image')\n",
    "plt.imshow(recovered_image, cmap='seismic')\n",
    "plt.axis('off')\n",
    "    \n",
    "plt.tight_layout()\n",
    "plt.show()\n",
    "\n",
    "\n",
    "np.save(\"test.npy\", recovered_image)"
   ]
  }
 ],
 "metadata": {
  "kernelspec": {
   "display_name": "venv",
   "language": "python",
   "name": "python3"
  },
  "language_info": {
   "codemirror_mode": {
    "name": "ipython",
    "version": 3
   },
   "file_extension": ".py",
   "mimetype": "text/x-python",
   "name": "python",
   "nbconvert_exporter": "python",
   "pygments_lexer": "ipython3",
   "version": "3.8.10"
  }
 },
 "nbformat": 4,
 "nbformat_minor": 2
}
