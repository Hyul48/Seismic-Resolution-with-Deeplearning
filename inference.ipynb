{
 "cells": [
  {
   "cell_type": "code",
   "execution_count": 5,
   "metadata": {},
   "outputs": [
    {
     "name": "stderr",
     "output_type": "stream",
     "text": [
      "/tmp/ipykernel_261031/670319077.py:10: FutureWarning: You are using `torch.load` with `weights_only=False` (the current default value), which uses the default pickle module implicitly. It is possible to construct malicious pickle data which will execute arbitrary code during unpickling (See https://github.com/pytorch/pytorch/blob/main/SECURITY.md#untrusted-models for more details). In a future release, the default value for `weights_only` will be flipped to `True`. This limits the functions that could be executed during unpickling. Arbitrary objects will no longer be allowed to be loaded via this mode unless they are explicitly allowlisted by the user via `torch.serialization.add_safe_globals`. We recommend you start setting `weights_only=True` for any use case where you don't have full control of the loaded file. Please open an issue on GitHub for any issues related to this experimental feature.\n",
      "  generator.load_state_dict(torch.load(model_path))\n"
     ]
    },
    {
     "ename": "NameError",
     "evalue": "name '_downscale' is not defined",
     "output_type": "error",
     "traceback": [
      "\u001b[0;31m---------------------------------------------------------------------------\u001b[0m",
      "\u001b[0;31mNameError\u001b[0m                                 Traceback (most recent call last)",
      "Cell \u001b[0;32mIn[5], line 28\u001b[0m\n\u001b[1;32m     25\u001b[0m     generated_image \u001b[38;5;241m=\u001b[39m generator(test_input)\n\u001b[1;32m     27\u001b[0m \u001b[38;5;66;03m# 5. 결과 출력 또는 저장\u001b[39;00m\n\u001b[0;32m---> 28\u001b[0m generated_image \u001b[38;5;241m=\u001b[39m \u001b[43m_downscale\u001b[49m(generated_image, \u001b[38;5;241m4\u001b[39m)\n\u001b[1;32m     29\u001b[0m generated_image \u001b[38;5;241m=\u001b[39m generated_image\u001b[38;5;241m.\u001b[39mcpu()\u001b[38;5;241m.\u001b[39mnumpy()  \u001b[38;5;66;03m# 결과를 NumPy 배열로 변환 (GPU 사용 시 CPU로 이동)\u001b[39;00m\n\u001b[1;32m     31\u001b[0m \u001b[38;5;28mprint\u001b[39m(\u001b[38;5;124mf\u001b[39m\u001b[38;5;124m'\u001b[39m\u001b[38;5;124mGenerated image shape: \u001b[39m\u001b[38;5;132;01m{\u001b[39;00mgenerated_image\u001b[38;5;241m.\u001b[39mshape\u001b[38;5;132;01m}\u001b[39;00m\u001b[38;5;124m'\u001b[39m)  \u001b[38;5;66;03m# 예시로 출력\u001b[39;00m\n",
      "\u001b[0;31mNameError\u001b[0m: name '_downscale' is not defined"
     ]
    }
   ],
   "source": [
    "import torch\n",
    "from models.Generator import GeneratorModel\n",
    "import numpy as np\n",
    "import matplotlib.pyplot as plt  # Matplotlib을 사용하여 이미지를 시각화\n",
    "from utils import _downscale\n",
    "\n",
    "# 1. 모델 로드 및 평가 모드 설정\n",
    "model_path = '/data2/generator_epoch_1.pth'  # 모델 경로 수정 (.pth 확장자)\n",
    "generator = GeneratorModel(input_channels=1, output_channels=1)  # 모델 구조에 맞게 설정\n",
    "generator.load_state_dict(torch.load(model_path))\n",
    "generator.eval()  # 평가 모드로 전환\n",
    "\n",
    "# 2. GPU 사용 가능 여부 확인 및 모델 이동\n",
    "device = torch.device(\"cuda\" if torch.cuda.is_available() else \"cpu\")\n",
    "generator.to(device)\n",
    "\n",
    "# 3. 입력 데이터 준비\n",
    "test_input = np.load(\"/data2/seismic_HYUL/dataset/thebe_processed_128_64/train/seismic/00000011.npy\")\n",
    "\n",
    "# 입력 텐서로 변환 (채널 차원 추가: [1, 1, height, width])\n",
    "test_input = torch.from_numpy(test_input).unsqueeze(0).unsqueeze(0).float().to(device)  # [1, 1, H, W] 형태로 변환\n",
    "\n",
    "# 4. 추론 진행 (with torch.no_grad()로 기울기 비활성화)\n",
    "with torch.no_grad():  # 추론 단계에서는 기울기 계산 불필요\n",
    "    generated_image = generator(test_input)\n",
    "\n",
    "# 5. 결과 출력 또는 저장\n",
    "generated_image = _downscale(generated_image, 4)\n",
    "generated_image = generated_image.cpu().numpy()  # 결과를 NumPy 배열로 변환 (GPU 사용 시 CPU로 이동)\n",
    "\n",
    "print(f'Generated image shape: {generated_image.shape}')  # 예시로 출력\n",
    "\n",
    "# 6. 결과 시각화\n",
    "plt.figure(figsize=(10, 5))\n",
    "\n",
    "# 입력 이미지 플롯\n",
    "plt.subplot(1, 2, 1)\n",
    "plt.imshow(test_input.cpu().numpy().squeeze(), cmap='gray')\n",
    "plt.title('Input Image')\n",
    "plt.axis('off')\n",
    "\n",
    "# 생성된 이미지 플롯\n",
    "plt.subplot(1, 2, 2)\n",
    "plt.imshow(generated_image.squeeze(), cmap='gray')\n",
    "plt.title('Generated Image')\n",
    "plt.axis('off')\n",
    "\n",
    "plt.tight_layout()\n",
    "plt.show()\n",
    "\n",
    "# 필요하다면 결과를 후처리해서 저장\n",
    "# np.save(\"output_image.npy\", generated_image)  # 예시로 결과 저장\n"
   ]
  }
 ],
 "metadata": {
  "kernelspec": {
   "display_name": "venv",
   "language": "python",
   "name": "python3"
  },
  "language_info": {
   "codemirror_mode": {
    "name": "ipython",
    "version": 3
   },
   "file_extension": ".py",
   "mimetype": "text/x-python",
   "name": "python",
   "nbconvert_exporter": "python",
   "pygments_lexer": "ipython3",
   "version": "3.8.10"
  }
 },
 "nbformat": 4,
 "nbformat_minor": 2
}
